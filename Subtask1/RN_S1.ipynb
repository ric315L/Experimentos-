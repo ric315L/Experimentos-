{
 "cells": [
  {
   "cell_type": "code",
   "execution_count": 1,
   "id": "3e1dbd4d",
   "metadata": {},
   "outputs": [
    {
     "name": "stderr",
     "output_type": "stream",
     "text": [
      "2024-06-10 04:35:11.204613: I tensorflow/core/platform/cpu_feature_guard.cc:210] This TensorFlow binary is optimized to use available CPU instructions in performance-critical operations.\n",
      "To enable the following instructions: AVX2 FMA, in other operations, rebuild TensorFlow with the appropriate compiler flags.\n",
      "2024-06-10 04:35:11.876369: W tensorflow/compiler/tf2tensorrt/utils/py_utils.cc:38] TF-TRT Warning: Could not find TensorRT\n"
     ]
    }
   ],
   "source": [
    "import tensorflow as tf\n",
    "import pandas as pd\n",
    "import numpy as np\n",
    "import matplotlib.pyplot as plt \n",
    "#physical_devices = tf.config.experimental.list_physical_devices('GPU')\n",
    "#print('physical_devices-----',len(physical_devices))\n",
    "#import os \n",
    "#os.environ['CUDA_VISIBLE_DEVICES']='0'"
   ]
  },
  {
   "cell_type": "code",
   "execution_count": 2,
   "id": "d4a9a05a",
   "metadata": {},
   "outputs": [],
   "source": [
    "# Función para añadir más de una característica\n",
    "def add_feature1(X, feature_to_add):\n",
    "    \"\"\"\n",
    "    Returns sparse feature matrix with added feature.\n",
    "    feature_to_add can also be a list of features.\n",
    "    \"\"\"\n",
    "    from scipy.sparse import csr_matrix, hstack\n",
    "    # Se concatena la secuncia de caracteres del conjunto de train con un matriz dispersa\n",
    "    return hstack([X, csr_matrix(feature_to_add)], 'csr')\n",
    "\n",
    "# Función para añadir una característica a la vez\n",
    "def add_feature2(X, feature_to_add):\n",
    "    \"\"\"\n",
    "    Returns sparse feature matrix with added feature.\n",
    "    feature_to_add can also be a list of features.\n",
    "    \"\"\"\n",
    "    from scipy.sparse import csr_matrix, hstack\n",
    "    # Se concatena la secuncia de caracteres del conjunto de train con un matriz dispersa\n",
    "    return hstack([X, csr_matrix(feature_to_add).T], 'csr')\n",
    "\n",
    "def plot_graphs(history, string):\n",
    "  plt.plot(history.history[string])\n",
    "  plt.plot(history.history['val_'+string])\n",
    "  plt.xlabel(\"Epochs\")\n",
    "  plt.ylabel(string)\n",
    "  plt.legend([string, 'val_'+string])\n",
    "  plt.show()"
   ]
  },
  {
   "cell_type": "code",
   "execution_count": 3,
   "id": "6a1b1b59",
   "metadata": {},
   "outputs": [
    {
     "name": "stdout",
     "output_type": "stream",
     "text": [
      "[[0.45905148 0.09679427 0.03873593 ... 0.         0.         0.0072165 ]\n",
      " [1.         0.05353423 0.01834862 ... 0.         0.         0.        ]\n",
      " [0.52192394 0.10034773 0.03669725 ... 0.01018251 0.         0.        ]\n",
      " ...\n",
      " [0.39141912 0.08603243 0.0347185  ... 0.00882927 0.         0.        ]\n",
      " [0.42076284 0.10144932 0.15672783 ... 0.         0.         0.        ]\n",
      " [0.41538658 0.08128784 0.02848869 ... 0.00925259 0.         0.        ]]\n",
      "Stylometry listo!\n",
      "LLM Bert listo!\n",
      "LLM E5 listo!\n",
      "LLM Roberta listo!\n"
     ]
    }
   ],
   "source": [
    "train_stylometry=pd.read_csv('exp_train/stylometry_train_S1.csv')\n",
    "test_stylometry=pd.read_csv('exp_test/stylometry_test_S1.csv')\n",
    "#test_stylometry=pd.read_csv('Test/stylometry_test_S1.csv')\n",
    "train_stylometry = train_stylometry.values \n",
    "test_stylometry=test_stylometry.values\n",
    "print(train_stylometry)\n",
    "print('Stylometry listo!')\n",
    "    \n",
    "    \n",
    "#Dataset LLM Bert (Andric)\n",
    "train_bert=pd.read_csv('exp_train/train_subtask1bert-base-multilingual-cased-finetuned-autext24.csv',header=None)\n",
    "test_bert=pd.read_csv('exp_test/test_subtask1bert-base-multilingual-cased-finetuned-autext24.csv',header=None)\n",
    "#test_bert=pd.read_csv('Test/test_subtask1bert-base-multilingual-cased-finetuned-autext24.csv',header=None)\n",
    "train_bert=train_bert.values\n",
    "test_bert=test_bert.values\n",
    "print('LLM Bert listo!')\n",
    "    \n",
    "# Dataset LLM Multilingual_e5 (Andric)\n",
    "train_e5=pd.read_csv('exp_train/train_subtask1multilingual-e5-large-finetuned-autext24.csv', header=None)\n",
    "test_e5=pd.read_csv('exp_test/test_subtask1multilingual-e5-large-finetuned-autext24.csv',header=None)\n",
    "#test_e5=pd.read_csv('Test/test_subtask1multilingual-e5-large-finetuned-autext24.csv',header=None)\n",
    "train_e5=train_e5.values\n",
    "test_e5=test_e5.values\n",
    "print('LLM E5 listo!')\n",
    "\n",
    "#Dataset roberta (Andric)\n",
    "train_roberta=pd.read_csv('exp_train/train_subtask1xlm-roberta-base-finetuned-autext24.csv',header=None)\n",
    "test_roberta=pd.read_csv('exp_test/test_subtask1xlm-roberta-base-finetuned-autext24.csv',header=None)        \n",
    "#test_roberta=pd.read_csv('Test/test_subtask1xlm-roberta-base-finetuned-autext24.csv',header=None)\n",
    "train_roberta=train_roberta.values\n",
    "test_roberta=test_roberta.values\n",
    "print('LLM Roberta listo!')"
   ]
  },
  {
   "cell_type": "code",
   "execution_count": 4,
   "id": "1f8bb5de",
   "metadata": {},
   "outputs": [
    {
     "name": "stdout",
     "output_type": "stream",
     "text": [
      "(76764, 3)\n",
      "(32899, 3)\n",
      "Datos originales, listo!\n"
     ]
    }
   ],
   "source": [
    "# Dataset original\n",
    "train_data = pd.read_csv('exp_train/train_S1.csv')\n",
    "test_data = pd.read_csv('exp_test/test_S1.csv')\n",
    "#test_data = pd.read_json('Test/test_set_original.jsonl',lines=True)\n",
    "\n",
    "train_data['label'] = np.where(train_data['label']=='generated',1,0)\n",
    "test_data['label'] = np.where(test_data['label']=='generated',1,0)\n",
    "\n",
    "X_train_data=train_data['text']\n",
    "y_train_data=train_data['label']\n",
    "    \n",
    "X_test_data=test_data['text']\n",
    "y_test_data=test_data['label']\n",
    "\n",
    "print(train_data.shape)\n",
    "print(test_data.shape)\n",
    "print('Datos originales, listo!')\n",
    "    "
   ]
  },
  {
   "cell_type": "code",
   "execution_count": 5,
   "id": "0ee0fa67",
   "metadata": {},
   "outputs": [
    {
     "name": "stdout",
     "output_type": "stream",
     "text": [
      "Datos de entrenamiento listos!\n",
      "Datos de prueba listos!\n",
      "Termina procesamiento de datos\n",
      "******************************\n"
     ]
    }
   ],
   "source": [
    "# Datos de entrenamiento\n",
    "X_train_cv=add_feature1(train_stylometry,train_bert)\n",
    "X_train_cv=add_feature1(X_train_cv,train_e5)\n",
    "X_train_cv=add_feature1(X_train_cv,train_roberta)\n",
    "# Calculamos más características adicionales \n",
    "num_digits= X_train_data.str.count('\\d')\n",
    "num_stops = X_train_data.str.count('\\s')    \n",
    "# Y las agregamos a nuestros datos \n",
    "X_train_cv = add_feature2(X_train_cv, num_digits)\n",
    "X_train_cv = add_feature2(X_train_cv, num_stops)\n",
    "print('Datos de entrenamiento listos!')\n",
    "\n",
    "# Datos de prueba \n",
    "X_test_cv=add_feature1(test_stylometry,test_bert)\n",
    "X_test_cv=add_feature1(X_test_cv,test_e5)\n",
    "X_test_cv=add_feature1(X_test_cv,test_roberta)\n",
    "# Calculamos más características adicionales\n",
    "num_digits_test= X_test_data.str.count('\\d')\n",
    "num_stops_test = X_test_data.str.count('\\s')\n",
    "# Y las agregamos a nuestros datos\n",
    "X_test_cv = add_feature2(X_test_cv, num_digits_test)\n",
    "X_test_cv = add_feature2(X_test_cv, num_stops_test)\n",
    "print('Datos de prueba listos!')\n",
    "print('Termina procesamiento de datos')\n",
    "print('*'*30)"
   ]
  },
  {
   "cell_type": "code",
   "execution_count": 10,
   "id": "d16fb005",
   "metadata": {},
   "outputs": [
    {
     "data": {
      "text/html": [
       "<pre style=\"white-space:pre;overflow-x:auto;line-height:normal;font-family:Menlo,'DejaVu Sans Mono',consolas,'Courier New',monospace\"><span style=\"font-weight: bold\">Model: \"sequential_1\"</span>\n",
       "</pre>\n"
      ],
      "text/plain": [
       "\u001b[1mModel: \"sequential_1\"\u001b[0m\n"
      ]
     },
     "metadata": {},
     "output_type": "display_data"
    },
    {
     "data": {
      "text/html": [
       "<pre style=\"white-space:pre;overflow-x:auto;line-height:normal;font-family:Menlo,'DejaVu Sans Mono',consolas,'Courier New',monospace\">┏━━━━━━━━━━━━━━━━━━━━━━━━━━━━━━━━━┳━━━━━━━━━━━━━━━━━━━━━━━━┳━━━━━━━━━━━━━━━┓\n",
       "┃<span style=\"font-weight: bold\"> Layer (type)                    </span>┃<span style=\"font-weight: bold\"> Output Shape           </span>┃<span style=\"font-weight: bold\">       Param # </span>┃\n",
       "┡━━━━━━━━━━━━━━━━━━━━━━━━━━━━━━━━━╇━━━━━━━━━━━━━━━━━━━━━━━━╇━━━━━━━━━━━━━━━┩\n",
       "│ dense_3 (<span style=\"color: #0087ff; text-decoration-color: #0087ff\">Dense</span>)                 │ (<span style=\"color: #00d7ff; text-decoration-color: #00d7ff\">None</span>, <span style=\"color: #00af00; text-decoration-color: #00af00\">128</span>)            │       <span style=\"color: #00af00; text-decoration-color: #00af00\">329,728</span> │\n",
       "├─────────────────────────────────┼────────────────────────┼───────────────┤\n",
       "│ dropout_2 (<span style=\"color: #0087ff; text-decoration-color: #0087ff\">Dropout</span>)             │ (<span style=\"color: #00d7ff; text-decoration-color: #00d7ff\">None</span>, <span style=\"color: #00af00; text-decoration-color: #00af00\">128</span>)            │             <span style=\"color: #00af00; text-decoration-color: #00af00\">0</span> │\n",
       "├─────────────────────────────────┼────────────────────────┼───────────────┤\n",
       "│ dense_4 (<span style=\"color: #0087ff; text-decoration-color: #0087ff\">Dense</span>)                 │ (<span style=\"color: #00d7ff; text-decoration-color: #00d7ff\">None</span>, <span style=\"color: #00af00; text-decoration-color: #00af00\">64</span>)             │         <span style=\"color: #00af00; text-decoration-color: #00af00\">8,256</span> │\n",
       "├─────────────────────────────────┼────────────────────────┼───────────────┤\n",
       "│ dropout_3 (<span style=\"color: #0087ff; text-decoration-color: #0087ff\">Dropout</span>)             │ (<span style=\"color: #00d7ff; text-decoration-color: #00d7ff\">None</span>, <span style=\"color: #00af00; text-decoration-color: #00af00\">64</span>)             │             <span style=\"color: #00af00; text-decoration-color: #00af00\">0</span> │\n",
       "├─────────────────────────────────┼────────────────────────┼───────────────┤\n",
       "│ dense_5 (<span style=\"color: #0087ff; text-decoration-color: #0087ff\">Dense</span>)                 │ (<span style=\"color: #00d7ff; text-decoration-color: #00d7ff\">None</span>, <span style=\"color: #00af00; text-decoration-color: #00af00\">1</span>)              │            <span style=\"color: #00af00; text-decoration-color: #00af00\">65</span> │\n",
       "└─────────────────────────────────┴────────────────────────┴───────────────┘\n",
       "</pre>\n"
      ],
      "text/plain": [
       "┏━━━━━━━━━━━━━━━━━━━━━━━━━━━━━━━━━┳━━━━━━━━━━━━━━━━━━━━━━━━┳━━━━━━━━━━━━━━━┓\n",
       "┃\u001b[1m \u001b[0m\u001b[1mLayer (type)                   \u001b[0m\u001b[1m \u001b[0m┃\u001b[1m \u001b[0m\u001b[1mOutput Shape          \u001b[0m\u001b[1m \u001b[0m┃\u001b[1m \u001b[0m\u001b[1m      Param #\u001b[0m\u001b[1m \u001b[0m┃\n",
       "┡━━━━━━━━━━━━━━━━━━━━━━━━━━━━━━━━━╇━━━━━━━━━━━━━━━━━━━━━━━━╇━━━━━━━━━━━━━━━┩\n",
       "│ dense_3 (\u001b[38;5;33mDense\u001b[0m)                 │ (\u001b[38;5;45mNone\u001b[0m, \u001b[38;5;34m128\u001b[0m)            │       \u001b[38;5;34m329,728\u001b[0m │\n",
       "├─────────────────────────────────┼────────────────────────┼───────────────┤\n",
       "│ dropout_2 (\u001b[38;5;33mDropout\u001b[0m)             │ (\u001b[38;5;45mNone\u001b[0m, \u001b[38;5;34m128\u001b[0m)            │             \u001b[38;5;34m0\u001b[0m │\n",
       "├─────────────────────────────────┼────────────────────────┼───────────────┤\n",
       "│ dense_4 (\u001b[38;5;33mDense\u001b[0m)                 │ (\u001b[38;5;45mNone\u001b[0m, \u001b[38;5;34m64\u001b[0m)             │         \u001b[38;5;34m8,256\u001b[0m │\n",
       "├─────────────────────────────────┼────────────────────────┼───────────────┤\n",
       "│ dropout_3 (\u001b[38;5;33mDropout\u001b[0m)             │ (\u001b[38;5;45mNone\u001b[0m, \u001b[38;5;34m64\u001b[0m)             │             \u001b[38;5;34m0\u001b[0m │\n",
       "├─────────────────────────────────┼────────────────────────┼───────────────┤\n",
       "│ dense_5 (\u001b[38;5;33mDense\u001b[0m)                 │ (\u001b[38;5;45mNone\u001b[0m, \u001b[38;5;34m1\u001b[0m)              │            \u001b[38;5;34m65\u001b[0m │\n",
       "└─────────────────────────────────┴────────────────────────┴───────────────┘\n"
      ]
     },
     "metadata": {},
     "output_type": "display_data"
    },
    {
     "data": {
      "text/html": [
       "<pre style=\"white-space:pre;overflow-x:auto;line-height:normal;font-family:Menlo,'DejaVu Sans Mono',consolas,'Courier New',monospace\"><span style=\"font-weight: bold\"> Total params: </span><span style=\"color: #00af00; text-decoration-color: #00af00\">338,049</span> (1.29 MB)\n",
       "</pre>\n"
      ],
      "text/plain": [
       "\u001b[1m Total params: \u001b[0m\u001b[38;5;34m338,049\u001b[0m (1.29 MB)\n"
      ]
     },
     "metadata": {},
     "output_type": "display_data"
    },
    {
     "data": {
      "text/html": [
       "<pre style=\"white-space:pre;overflow-x:auto;line-height:normal;font-family:Menlo,'DejaVu Sans Mono',consolas,'Courier New',monospace\"><span style=\"font-weight: bold\"> Trainable params: </span><span style=\"color: #00af00; text-decoration-color: #00af00\">338,049</span> (1.29 MB)\n",
       "</pre>\n"
      ],
      "text/plain": [
       "\u001b[1m Trainable params: \u001b[0m\u001b[38;5;34m338,049\u001b[0m (1.29 MB)\n"
      ]
     },
     "metadata": {},
     "output_type": "display_data"
    },
    {
     "data": {
      "text/html": [
       "<pre style=\"white-space:pre;overflow-x:auto;line-height:normal;font-family:Menlo,'DejaVu Sans Mono',consolas,'Courier New',monospace\"><span style=\"font-weight: bold\"> Non-trainable params: </span><span style=\"color: #00af00; text-decoration-color: #00af00\">0</span> (0.00 B)\n",
       "</pre>\n"
      ],
      "text/plain": [
       "\u001b[1m Non-trainable params: \u001b[0m\u001b[38;5;34m0\u001b[0m (0.00 B)\n"
      ]
     },
     "metadata": {},
     "output_type": "display_data"
    }
   ],
   "source": [
    "import tensorflow as tf\n",
    "from keras.optimizers import Adam\n",
    "\n",
    "# Modelo secuencial\n",
    "model = tf.keras.Sequential([\n",
    "    tf.keras.layers.Dense(128, activation='relu', input_shape=(X_train_cv.shape[1],)),\n",
    "    tf.keras.layers.Dropout(0.3),\n",
    "    tf.keras.layers.Dense(64, activation='relu'),\n",
    "    tf.keras.layers.Dropout(0.3),\n",
    "    tf.keras.layers.Dense(1, activation='sigmoid')\n",
    "])\n",
    "\n",
    "# Optimizador\n",
    "learning_rate = 0.0001\n",
    "optimizer = Adam(learning_rate=learning_rate)\n",
    "\n",
    "# Compilamos el modelo\n",
    "model.compile(optimizer=optimizer,\n",
    "              loss='binary_crossentropy',\n",
    "              metrics=['accuracy'])\n",
    "\n",
    "# Resumen del modelo\n",
    "model.summary()\n"
   ]
  },
  {
   "cell_type": "code",
   "execution_count": 11,
   "id": "06174488",
   "metadata": {},
   "outputs": [
    {
     "name": "stdout",
     "output_type": "stream",
     "text": [
      "Epoch 1/10\n",
      "\u001b[1m480/480\u001b[0m \u001b[32m━━━━━━━━━━━━━━━━━━━━\u001b[0m\u001b[37m\u001b[0m \u001b[1m51s\u001b[0m 105ms/step - accuracy: 0.9505 - loss: 0.1880 - val_accuracy: 0.9995 - val_loss: 0.0015\n",
      "Epoch 2/10\n",
      "\u001b[1m480/480\u001b[0m \u001b[32m━━━━━━━━━━━━━━━━━━━━\u001b[0m\u001b[37m\u001b[0m \u001b[1m47s\u001b[0m 98ms/step - accuracy: 0.9990 - loss: 0.0034 - val_accuracy: 0.9998 - val_loss: 7.1143e-04\n",
      "Epoch 3/10\n",
      "\u001b[1m480/480\u001b[0m \u001b[32m━━━━━━━━━━━━━━━━━━━━\u001b[0m\u001b[37m\u001b[0m \u001b[1m47s\u001b[0m 97ms/step - accuracy: 0.9993 - loss: 0.0026 - val_accuracy: 0.9999 - val_loss: 6.0990e-04\n",
      "Epoch 4/10\n",
      "\u001b[1m480/480\u001b[0m \u001b[32m━━━━━━━━━━━━━━━━━━━━\u001b[0m\u001b[37m\u001b[0m \u001b[1m47s\u001b[0m 99ms/step - accuracy: 0.9996 - loss: 0.0018 - val_accuracy: 0.9999 - val_loss: 5.8300e-04\n",
      "Epoch 5/10\n",
      "\u001b[1m480/480\u001b[0m \u001b[32m━━━━━━━━━━━━━━━━━━━━\u001b[0m\u001b[37m\u001b[0m \u001b[1m47s\u001b[0m 98ms/step - accuracy: 0.9996 - loss: 0.0016 - val_accuracy: 0.9999 - val_loss: 6.4584e-04\n",
      "Epoch 6/10\n",
      "\u001b[1m480/480\u001b[0m \u001b[32m━━━━━━━━━━━━━━━━━━━━\u001b[0m\u001b[37m\u001b[0m \u001b[1m48s\u001b[0m 100ms/step - accuracy: 0.9995 - loss: 0.0022 - val_accuracy: 0.9999 - val_loss: 6.0238e-04\n",
      "Epoch 7/10\n",
      "\u001b[1m480/480\u001b[0m \u001b[32m━━━━━━━━━━━━━━━━━━━━\u001b[0m\u001b[37m\u001b[0m \u001b[1m49s\u001b[0m 102ms/step - accuracy: 0.9997 - loss: 9.9385e-04 - val_accuracy: 0.9999 - val_loss: 6.6872e-04\n",
      "Epoch 8/10\n",
      "\u001b[1m480/480\u001b[0m \u001b[32m━━━━━━━━━━━━━━━━━━━━\u001b[0m\u001b[37m\u001b[0m \u001b[1m49s\u001b[0m 102ms/step - accuracy: 0.9998 - loss: 0.0010 - val_accuracy: 0.9999 - val_loss: 7.2576e-04\n",
      "Epoch 9/10\n",
      "\u001b[1m480/480\u001b[0m \u001b[32m━━━━━━━━━━━━━━━━━━━━\u001b[0m\u001b[37m\u001b[0m \u001b[1m48s\u001b[0m 100ms/step - accuracy: 0.9998 - loss: 0.0016 - val_accuracy: 0.9999 - val_loss: 5.2616e-04\n",
      "Epoch 10/10\n",
      "\u001b[1m480/480\u001b[0m \u001b[32m━━━━━━━━━━━━━━━━━━━━\u001b[0m\u001b[37m\u001b[0m \u001b[1m48s\u001b[0m 100ms/step - accuracy: 0.9998 - loss: 0.0010 - val_accuracy: 0.9999 - val_loss: 5.9147e-04\n"
     ]
    }
   ],
   "source": [
    "# Comenzamos con el entrenamiento. Dejamos otro 20% para el conjunto de validación.\n",
    "history = model.fit(X_train_cv, y_train_data, epochs=10, batch_size=128, validation_split=0.2)"
   ]
  },
  {
   "cell_type": "code",
   "execution_count": 12,
   "id": "50918ffa",
   "metadata": {},
   "outputs": [
    {
     "data": {
      "image/png": "[encoded data removed]",
      "text/plain": [
       "<Figure size 640x480 with 1 Axes>"
      ]
     },
     "metadata": {},
     "output_type": "display_data"
    },
    {
     "data": {
      "image/png": "[encoded data removed]",
      "text/plain": [
       "<Figure size 640x480 with 1 Axes>"
      ]
     },
     "metadata": {},
     "output_type": "display_data"
    }
   ],
   "source": [
    "plot_graphs(history, \"accuracy\")\n",
    "plot_graphs(history, \"loss\")"
   ]
  },
  {
   "cell_type": "code",
   "execution_count": 13,
   "id": "78d9342b",
   "metadata": {},
   "outputs": [
    {
     "name": "stdout",
     "output_type": "stream",
     "text": [
      "\u001b[1m1029/1029\u001b[0m \u001b[32m━━━━━━━━━━━━━━━━━━━━\u001b[0m\u001b[37m\u001b[0m \u001b[1m14s\u001b[0m 13ms/step - accuracy: 0.9755 - loss: 0.2077\n",
      "Accuracy en los datos de prueba: 0.9749536514282227\n"
     ]
    }
   ],
   "source": [
    "# Evaluación del modelo\n",
    "test_loss, test_accuracy = model.evaluate(X_test_cv, y_test_data)\n",
    "\n",
    "print(\"Accuracy en los datos de prueba:\", test_accuracy)"
   ]
  },
  {
   "cell_type": "code",
   "execution_count": 14,
   "id": "4d52c9a7",
   "metadata": {},
   "outputs": [
    {
     "name": "stdout",
     "output_type": "stream",
     "text": [
      "\u001b[1m1029/1029\u001b[0m \u001b[32m━━━━━━━━━━━━━━━━━━━━\u001b[0m\u001b[37m\u001b[0m \u001b[1m14s\u001b[0m 13ms/step\n"
     ]
    }
   ],
   "source": [
    "y_pred = model.predict(X_test_cv)"
   ]
  },
  {
   "cell_type": "code",
   "execution_count": 17,
   "id": "a4d09bcc",
   "metadata": {},
   "outputs": [],
   "source": [
    "from sklearn.metrics import f1_score\n",
    "y_pred_labels = (y_pred > 0.5).astype(int)\n",
    "f1 = f1_score(y_test_data, y_pred_labels)"
   ]
  },
  {
   "cell_type": "code",
   "execution_count": 18,
   "id": "41ed6ba5",
   "metadata": {},
   "outputs": [
    {
     "data": {
      "text/plain": [
       "0.9767861167455488"
      ]
     },
     "execution_count": 18,
     "metadata": {},
     "output_type": "execute_result"
    }
   ],
   "source": [
    "f1"
   ]
  },
  {
   "cell_type": "code",
   "execution_count": null,
   "id": "aa037afb",
   "metadata": {},
   "outputs": [],
   "source": []
  }
 ],
 "metadata": {
  "kernelspec": {
   "display_name": "Python 3 (ipykernel)",
   "language": "python",
   "name": "python3"
  },
  "language_info": {
   "codemirror_mode": {
    "name": "ipython",
    "version": 3
   },
   "file_extension": ".py",
   "mimetype": "text/x-python",
   "name": "python",
   "nbconvert_exporter": "python",
   "pygments_lexer": "ipython3",
   "version": "3.11.5"
  }
 },
 "nbformat": 4,
 "nbformat_minor": 5
}
