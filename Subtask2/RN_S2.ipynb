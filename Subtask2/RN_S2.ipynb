{
 "cells": [
  {
   "cell_type": "code",
   "execution_count": 1,
   "id": "13951409",
   "metadata": {},
   "outputs": [
    {
     "name": "stderr",
     "output_type": "stream",
     "text": [
      "2024-06-10 05:01:47.406500: I tensorflow/core/platform/cpu_feature_guard.cc:210] This TensorFlow binary is optimized to use available CPU instructions in performance-critical operations.\n",
      "To enable the following instructions: AVX2 FMA, in other operations, rebuild TensorFlow with the appropriate compiler flags.\n",
      "2024-06-10 05:01:48.141058: W tensorflow/compiler/tf2tensorrt/utils/py_utils.cc:38] TF-TRT Warning: Could not find TensorRT\n"
     ]
    }
   ],
   "source": [
    "import tensorflow as tf\n",
    "import pandas as pd\n",
    "import numpy as np\n",
    "import matplotlib.pyplot as plt "
   ]
  },
  {
   "cell_type": "code",
   "execution_count": 2,
   "id": "257d99ac",
   "metadata": {},
   "outputs": [],
   "source": [
    "# Función para añadir más de una característica\n",
    "def add_feature1(X, feature_to_add):\n",
    "    \"\"\"\n",
    "    Returns sparse feature matrix with added feature.\n",
    "    feature_to_add can also be a list of features.\n",
    "    \"\"\"\n",
    "    from scipy.sparse import csr_matrix, hstack\n",
    "    # Se concatena la secuncia de caracteres del conjunto de train con un matriz dispersa\n",
    "    return hstack([X, csr_matrix(feature_to_add)], 'csr')\n",
    "\n",
    "# Función para añadir una característica a la vez\n",
    "def add_feature2(X, feature_to_add):\n",
    "    \"\"\"\n",
    "    Returns sparse feature matrix with added feature.\n",
    "    feature_to_add can also be a list of features.\n",
    "    \"\"\"\n",
    "    from scipy.sparse import csr_matrix, hstack\n",
    "    # Se concatena la secuncia de caracteres del conjunto de train con un matriz dispersa\n",
    "    return hstack([X, csr_matrix(feature_to_add).T], 'csr')\n",
    "\n",
    "def plot_graphs(history, string):\n",
    "  plt.plot(history.history[string])\n",
    "  plt.plot(history.history['val_'+string])\n",
    "  plt.xlabel(\"Epochs\")\n",
    "  plt.ylabel(string)\n",
    "  plt.legend([string, 'val_'+string])\n",
    "  plt.show()"
   ]
  },
  {
   "cell_type": "code",
   "execution_count": 3,
   "id": "ec14761a",
   "metadata": {},
   "outputs": [
    {
     "name": "stdout",
     "output_type": "stream",
     "text": [
      "******************************\n",
      "Comienza procesamiento de datos\n",
      "Stylometry listo!\n",
      "LLM Bert listo!\n",
      "LLM E5 listo!\n",
      "LLM Roberta listo!\n"
     ]
    }
   ],
   "source": [
    "print('*'*30)\n",
    "print('Comienza procesamiento de datos')\n",
    "# Dataset con las características estilométricas\n",
    "train_stylometry=pd.read_csv('exp_train/stylometry_train_S2.csv')\n",
    "test_stylometry=pd.read_csv('exp_test/stylometry_test_S2.csv')\n",
    "#train_stylometry=pd.read_csv('Train/stylometry_train_S2.csv')\n",
    "#test_stylometry=pd.read_csv('Test/stylometry_test_S2.csv')\n",
    "train_stylometry = train_stylometry.values \n",
    "test_stylometry=test_stylometry.values\n",
    "print('Stylometry listo!')\n",
    "    \n",
    "#Dataset LLM Bert\n",
    "train_bert=pd.read_csv('exp_train/train_subtask2bert-base-multilingual-cased-finetuned-autext24-subtask2.csv',header=None)\n",
    "test_bert=pd.read_csv('exp_test/test_subtask2bert-base-multilingual-cased-finetuned-autext24-subtask2.csv',header=None)\n",
    "#train_bert=pd.read_csv('Train/train_subtask2bert-base-multilingual-cased-finetuned-autext24-subtask2.csv',header=None)\n",
    "#test_bert=pd.read_csv('Test/test_subtask2bert-base-multilingual-cased-finetuned-autext24-subtask2.csv',header=None)\n",
    "train_bert=train_bert.values\n",
    "test_bert=test_bert.values\n",
    "print('LLM Bert listo!')\n",
    "\n",
    "# Dataset LLM Multilingual_e5 \n",
    "train_e5=pd.read_csv('exp_train/train_subtask2multilingual-e5-large-finetuned-autext24-subtask2.csv', header=None)\n",
    "test_e5=pd.read_csv('exp_test/test_subtask2multilingual-e5-large-finetuned-autext24-subtask2.csv',header=None)\n",
    "#train_e5=pd.read_csv('Train/train_subtask2multilingual-e5-large-finetuned-autext24-subtask2.csv', header=None)\n",
    "#test_e5=pd.read_csv('Test/test_subtask2multilingual-e5-large-finetuned-autext24-subtask2.csv',header=None)\n",
    "train_e5=train_e5.values\n",
    "test_e5=test_e5.values\n",
    "print('LLM E5 listo!')\n",
    "        \n",
    "#Dataset roberta \n",
    "train_roberta=pd.read_csv('exp_train/train_subtask2xlm-roberta-base-finetuned-autext24-subtask2.csv',header=None)\n",
    "test_roberta=pd.read_csv('exp_test/test_subtask2xlm-roberta-base-finetuned-autext24-subtask2.csv',header=None)\n",
    "#train_roberta=pd.read_csv('Train/train_subtask2xlm-roberta-base-finetuned-autext24-subtask2.csv',header=None)\n",
    "#test_roberta=pd.read_csv('Test/test_subtask2xlm-roberta-base-finetuned-autext24-subtask2.csv',header=None)\n",
    "train_roberta=train_roberta.values\n",
    "test_roberta=test_roberta.values\n",
    "print('LLM Roberta listo!')"
   ]
  },
  {
   "cell_type": "code",
   "execution_count": 4,
   "id": "0ec70c05",
   "metadata": {},
   "outputs": [
    {
     "name": "stdout",
     "output_type": "stream",
     "text": [
      "(41127, 3)\n",
      "(17627, 3)\n",
      "Datos originales, listo!\n"
     ]
    }
   ],
   "source": [
    "# Dataset original\n",
    "train_data = pd.read_csv('exp_train/train_S2.csv')\n",
    "test_data = pd.read_csv('exp_test/test_S2.csv')\n",
    "#train_data = pd.read_json('Train/subtask_2.jsonl',lines=True)\n",
    "#test_data = pd.read_json('Test/test_original.jsonl',lines=True)\n",
    "\n",
    "etiquetas = ['A', 'B', 'C', 'D', 'E', 'F']\n",
    "for i, clase in enumerate(etiquetas):\n",
    "    train_data['label'] = np.where(train_data['label'] == clase, i, train_data['label'])\n",
    "\n",
    "for i, clase in enumerate(etiquetas):\n",
    "    test_data['label'] = np.where(test_data['label'] == clase, i, test_data['label'])\n",
    "\n",
    "X_train_data=train_data['text']\n",
    "y_train_data=train_data['label']\n",
    "X_test_data=test_data['text']\n",
    "y_test_data=test_data['label']\n",
    "y_train_data = y_train_data.astype(int)\n",
    "y_test_data = y_test_data.astype(int)\n",
    "    \n",
    "print(train_data.shape)\n",
    "print(test_data.shape)\n",
    "print('Datos originales, listo!')"
   ]
  },
  {
   "cell_type": "code",
   "execution_count": 5,
   "id": "8aea0f64",
   "metadata": {},
   "outputs": [
    {
     "name": "stdout",
     "output_type": "stream",
     "text": [
      "Datos de entrenamiento listos!\n",
      "Datos de prueba listos!\n",
      "Termina procesamiento de datos\n",
      "******************************\n"
     ]
    }
   ],
   "source": [
    "# Datos de entrenamiento\n",
    "X_train_cv=add_feature1(train_stylometry,train_bert)\n",
    "X_train_cv=add_feature1(X_train_cv,train_e5)\n",
    "X_train_cv=add_feature1(X_train_cv,train_roberta)\n",
    "# Calculamos más características adicionales \n",
    "num_digits= X_train_data.str.count('\\d')\n",
    "num_stops = X_train_data.str.count('\\s')    \n",
    "# Y las agregamos a nuestros datos \n",
    "X_train_cv = add_feature2(X_train_cv, num_digits)\n",
    "X_train_cv = add_feature2(X_train_cv, num_stops)\n",
    "print('Datos de entrenamiento listos!')\n",
    "\n",
    "# Datos de prueba \n",
    "X_test_cv=add_feature1(test_stylometry,test_bert)\n",
    "X_test_cv=add_feature1(X_test_cv,test_e5)\n",
    "X_test_cv=add_feature1(X_test_cv,test_roberta)\n",
    "# Calculamos más características adicionales\n",
    "num_digits_test= X_test_data.str.count('\\d')\n",
    "num_stops_test = X_test_data.str.count('\\s')\n",
    "# Y las agregamos a nuestros datos\n",
    "X_test_cv = add_feature2(X_test_cv, num_digits_test)\n",
    "X_test_cv = add_feature2(X_test_cv, num_stops_test)\n",
    "print('Datos de prueba listos!')\n",
    "print('Termina procesamiento de datos')\n",
    "print('*'*30)"
   ]
  },
  {
   "cell_type": "code",
   "execution_count": 8,
   "id": "a1bfb1c3",
   "metadata": {},
   "outputs": [
    {
     "data": {
      "text/html": [
       "<pre style=\"white-space:pre;overflow-x:auto;line-height:normal;font-family:Menlo,'DejaVu Sans Mono',consolas,'Courier New',monospace\"><span style=\"font-weight: bold\">Model: \"sequential_1\"</span>\n",
       "</pre>\n"
      ],
      "text/plain": [
       "\u001b[1mModel: \"sequential_1\"\u001b[0m\n"
      ]
     },
     "metadata": {},
     "output_type": "display_data"
    },
    {
     "data": {
      "text/html": [
       "<pre style=\"white-space:pre;overflow-x:auto;line-height:normal;font-family:Menlo,'DejaVu Sans Mono',consolas,'Courier New',monospace\">┏━━━━━━━━━━━━━━━━━━━━━━━━━━━━━━━━━┳━━━━━━━━━━━━━━━━━━━━━━━━┳━━━━━━━━━━━━━━━┓\n",
       "┃<span style=\"font-weight: bold\"> Layer (type)                    </span>┃<span style=\"font-weight: bold\"> Output Shape           </span>┃<span style=\"font-weight: bold\">       Param # </span>┃\n",
       "┡━━━━━━━━━━━━━━━━━━━━━━━━━━━━━━━━━╇━━━━━━━━━━━━━━━━━━━━━━━━╇━━━━━━━━━━━━━━━┩\n",
       "│ dense_3 (<span style=\"color: #0087ff; text-decoration-color: #0087ff\">Dense</span>)                 │ (<span style=\"color: #00d7ff; text-decoration-color: #00d7ff\">None</span>, <span style=\"color: #00af00; text-decoration-color: #00af00\">128</span>)            │       <span style=\"color: #00af00; text-decoration-color: #00af00\">329,728</span> │\n",
       "├─────────────────────────────────┼────────────────────────┼───────────────┤\n",
       "│ dropout_2 (<span style=\"color: #0087ff; text-decoration-color: #0087ff\">Dropout</span>)             │ (<span style=\"color: #00d7ff; text-decoration-color: #00d7ff\">None</span>, <span style=\"color: #00af00; text-decoration-color: #00af00\">128</span>)            │             <span style=\"color: #00af00; text-decoration-color: #00af00\">0</span> │\n",
       "├─────────────────────────────────┼────────────────────────┼───────────────┤\n",
       "│ dense_4 (<span style=\"color: #0087ff; text-decoration-color: #0087ff\">Dense</span>)                 │ (<span style=\"color: #00d7ff; text-decoration-color: #00d7ff\">None</span>, <span style=\"color: #00af00; text-decoration-color: #00af00\">64</span>)             │         <span style=\"color: #00af00; text-decoration-color: #00af00\">8,256</span> │\n",
       "├─────────────────────────────────┼────────────────────────┼───────────────┤\n",
       "│ dropout_3 (<span style=\"color: #0087ff; text-decoration-color: #0087ff\">Dropout</span>)             │ (<span style=\"color: #00d7ff; text-decoration-color: #00d7ff\">None</span>, <span style=\"color: #00af00; text-decoration-color: #00af00\">64</span>)             │             <span style=\"color: #00af00; text-decoration-color: #00af00\">0</span> │\n",
       "├─────────────────────────────────┼────────────────────────┼───────────────┤\n",
       "│ dense_5 (<span style=\"color: #0087ff; text-decoration-color: #0087ff\">Dense</span>)                 │ (<span style=\"color: #00d7ff; text-decoration-color: #00d7ff\">None</span>, <span style=\"color: #00af00; text-decoration-color: #00af00\">6</span>)              │           <span style=\"color: #00af00; text-decoration-color: #00af00\">390</span> │\n",
       "└─────────────────────────────────┴────────────────────────┴───────────────┘\n",
       "</pre>\n"
      ],
      "text/plain": [
       "┏━━━━━━━━━━━━━━━━━━━━━━━━━━━━━━━━━┳━━━━━━━━━━━━━━━━━━━━━━━━┳━━━━━━━━━━━━━━━┓\n",
       "┃\u001b[1m \u001b[0m\u001b[1mLayer (type)                   \u001b[0m\u001b[1m \u001b[0m┃\u001b[1m \u001b[0m\u001b[1mOutput Shape          \u001b[0m\u001b[1m \u001b[0m┃\u001b[1m \u001b[0m\u001b[1m      Param #\u001b[0m\u001b[1m \u001b[0m┃\n",
       "┡━━━━━━━━━━━━━━━━━━━━━━━━━━━━━━━━━╇━━━━━━━━━━━━━━━━━━━━━━━━╇━━━━━━━━━━━━━━━┩\n",
       "│ dense_3 (\u001b[38;5;33mDense\u001b[0m)                 │ (\u001b[38;5;45mNone\u001b[0m, \u001b[38;5;34m128\u001b[0m)            │       \u001b[38;5;34m329,728\u001b[0m │\n",
       "├─────────────────────────────────┼────────────────────────┼───────────────┤\n",
       "│ dropout_2 (\u001b[38;5;33mDropout\u001b[0m)             │ (\u001b[38;5;45mNone\u001b[0m, \u001b[38;5;34m128\u001b[0m)            │             \u001b[38;5;34m0\u001b[0m │\n",
       "├─────────────────────────────────┼────────────────────────┼───────────────┤\n",
       "│ dense_4 (\u001b[38;5;33mDense\u001b[0m)                 │ (\u001b[38;5;45mNone\u001b[0m, \u001b[38;5;34m64\u001b[0m)             │         \u001b[38;5;34m8,256\u001b[0m │\n",
       "├─────────────────────────────────┼────────────────────────┼───────────────┤\n",
       "│ dropout_3 (\u001b[38;5;33mDropout\u001b[0m)             │ (\u001b[38;5;45mNone\u001b[0m, \u001b[38;5;34m64\u001b[0m)             │             \u001b[38;5;34m0\u001b[0m │\n",
       "├─────────────────────────────────┼────────────────────────┼───────────────┤\n",
       "│ dense_5 (\u001b[38;5;33mDense\u001b[0m)                 │ (\u001b[38;5;45mNone\u001b[0m, \u001b[38;5;34m6\u001b[0m)              │           \u001b[38;5;34m390\u001b[0m │\n",
       "└─────────────────────────────────┴────────────────────────┴───────────────┘\n"
      ]
     },
     "metadata": {},
     "output_type": "display_data"
    },
    {
     "data": {
      "text/html": [
       "<pre style=\"white-space:pre;overflow-x:auto;line-height:normal;font-family:Menlo,'DejaVu Sans Mono',consolas,'Courier New',monospace\"><span style=\"font-weight: bold\"> Total params: </span><span style=\"color: #00af00; text-decoration-color: #00af00\">338,374</span> (1.29 MB)\n",
       "</pre>\n"
      ],
      "text/plain": [
       "\u001b[1m Total params: \u001b[0m\u001b[38;5;34m338,374\u001b[0m (1.29 MB)\n"
      ]
     },
     "metadata": {},
     "output_type": "display_data"
    },
    {
     "data": {
      "text/html": [
       "<pre style=\"white-space:pre;overflow-x:auto;line-height:normal;font-family:Menlo,'DejaVu Sans Mono',consolas,'Courier New',monospace\"><span style=\"font-weight: bold\"> Trainable params: </span><span style=\"color: #00af00; text-decoration-color: #00af00\">338,374</span> (1.29 MB)\n",
       "</pre>\n"
      ],
      "text/plain": [
       "\u001b[1m Trainable params: \u001b[0m\u001b[38;5;34m338,374\u001b[0m (1.29 MB)\n"
      ]
     },
     "metadata": {},
     "output_type": "display_data"
    },
    {
     "data": {
      "text/html": [
       "<pre style=\"white-space:pre;overflow-x:auto;line-height:normal;font-family:Menlo,'DejaVu Sans Mono',consolas,'Courier New',monospace\"><span style=\"font-weight: bold\"> Non-trainable params: </span><span style=\"color: #00af00; text-decoration-color: #00af00\">0</span> (0.00 B)\n",
       "</pre>\n"
      ],
      "text/plain": [
       "\u001b[1m Non-trainable params: \u001b[0m\u001b[38;5;34m0\u001b[0m (0.00 B)\n"
      ]
     },
     "metadata": {},
     "output_type": "display_data"
    }
   ],
   "source": [
    "import tensorflow as tf\n",
    "from keras.optimizers import Adam\n",
    "\n",
    "# Modelo secuencial\n",
    "model = tf.keras.Sequential([\n",
    "    tf.keras.layers.Dense(128, activation='relu', input_shape=(X_train_cv.shape[1],)),\n",
    "    tf.keras.layers.Dropout(0.3),\n",
    "    tf.keras.layers.Dense(64, activation='relu'),\n",
    "    tf.keras.layers.Dropout(0.3),\n",
    "    tf.keras.layers.Dense(6, activation='softmax')\n",
    "])\n",
    "\n",
    "# Optimizador\n",
    "learning_rate = 0.0001\n",
    "optimizer = Adam(learning_rate=learning_rate)\n",
    "\n",
    "# Compilamos el modelo\n",
    "model.compile(optimizer=optimizer,\n",
    "              loss='sparse_categorical_crossentropy',\n",
    "              metrics=['accuracy'])\n",
    "\n",
    "# Resumen del modelo\n",
    "model.summary()\n"
   ]
  },
  {
   "cell_type": "code",
   "execution_count": 9,
   "id": "0554c57f",
   "metadata": {},
   "outputs": [
    {
     "name": "stdout",
     "output_type": "stream",
     "text": [
      "Epoch 1/10\n",
      "\u001b[1m258/258\u001b[0m \u001b[32m━━━━━━━━━━━━━━━━━━━━\u001b[0m\u001b[37m\u001b[0m \u001b[1m26s\u001b[0m 100ms/step - accuracy: 0.7498 - loss: 1.5103 - val_accuracy: 0.9938 - val_loss: 0.0262\n",
      "Epoch 2/10\n",
      "\u001b[1m258/258\u001b[0m \u001b[32m━━━━━━━━━━━━━━━━━━━━\u001b[0m\u001b[37m\u001b[0m \u001b[1m25s\u001b[0m 97ms/step - accuracy: 0.9802 - loss: 0.0809 - val_accuracy: 0.9948 - val_loss: 0.0228\n",
      "Epoch 3/10\n",
      "\u001b[1m258/258\u001b[0m \u001b[32m━━━━━━━━━━━━━━━━━━━━\u001b[0m\u001b[37m\u001b[0m \u001b[1m25s\u001b[0m 98ms/step - accuracy: 0.9888 - loss: 0.0465 - val_accuracy: 0.9957 - val_loss: 0.0196\n",
      "Epoch 4/10\n",
      "\u001b[1m258/258\u001b[0m \u001b[32m━━━━━━━━━━━━━━━━━━━━\u001b[0m\u001b[37m\u001b[0m \u001b[1m25s\u001b[0m 98ms/step - accuracy: 0.9918 - loss: 0.0341 - val_accuracy: 0.9951 - val_loss: 0.0220\n",
      "Epoch 5/10\n",
      "\u001b[1m258/258\u001b[0m \u001b[32m━━━━━━━━━━━━━━━━━━━━\u001b[0m\u001b[37m\u001b[0m \u001b[1m26s\u001b[0m 99ms/step - accuracy: 0.9932 - loss: 0.0303 - val_accuracy: 0.9957 - val_loss: 0.0200\n",
      "Epoch 6/10\n",
      "\u001b[1m258/258\u001b[0m \u001b[32m━━━━━━━━━━━━━━━━━━━━\u001b[0m\u001b[37m\u001b[0m \u001b[1m25s\u001b[0m 98ms/step - accuracy: 0.9939 - loss: 0.0263 - val_accuracy: 0.9955 - val_loss: 0.0192\n",
      "Epoch 7/10\n",
      "\u001b[1m258/258\u001b[0m \u001b[32m━━━━━━━━━━━━━━━━━━━━\u001b[0m\u001b[37m\u001b[0m \u001b[1m26s\u001b[0m 99ms/step - accuracy: 0.9946 - loss: 0.0227 - val_accuracy: 0.9957 - val_loss: 0.0194\n",
      "Epoch 8/10\n",
      "\u001b[1m258/258\u001b[0m \u001b[32m━━━━━━━━━━━━━━━━━━━━\u001b[0m\u001b[37m\u001b[0m \u001b[1m26s\u001b[0m 101ms/step - accuracy: 0.9948 - loss: 0.0250 - val_accuracy: 0.9965 - val_loss: 0.0190\n",
      "Epoch 9/10\n",
      "\u001b[1m258/258\u001b[0m \u001b[32m━━━━━━━━━━━━━━━━━━━━\u001b[0m\u001b[37m\u001b[0m \u001b[1m26s\u001b[0m 100ms/step - accuracy: 0.9957 - loss: 0.0185 - val_accuracy: 0.9956 - val_loss: 0.0188\n",
      "Epoch 10/10\n",
      "\u001b[1m258/258\u001b[0m \u001b[32m━━━━━━━━━━━━━━━━━━━━\u001b[0m\u001b[37m\u001b[0m \u001b[1m26s\u001b[0m 101ms/step - accuracy: 0.9954 - loss: 0.0194 - val_accuracy: 0.9962 - val_loss: 0.0170\n"
     ]
    }
   ],
   "source": [
    "# Comenzamos con el entrenamiento. Dejamos otro 20% para el conjunto de validación.\n",
    "history = model.fit(X_train_cv, y_train_data, epochs=10, batch_size=128, validation_split=0.2)"
   ]
  },
  {
   "cell_type": "code",
   "execution_count": 10,
   "id": "db9740f5",
   "metadata": {},
   "outputs": [
    {
     "data": {
      "image/png": "[encoded data removed]",
      "text/plain": [
       "<Figure size 640x480 with 1 Axes>"
      ]
     },
     "metadata": {},
     "output_type": "display_data"
    },
    {
     "data": {
      "image/png": "[encoded data removed]",
      "text/plain": [
       "<Figure size 640x480 with 1 Axes>"
      ]
     },
     "metadata": {},
     "output_type": "display_data"
    }
   ],
   "source": [
    "plot_graphs(history, \"accuracy\")\n",
    "plot_graphs(history, \"loss\")"
   ]
  },
  {
   "cell_type": "code",
   "execution_count": 11,
   "id": "c2e1271f",
   "metadata": {},
   "outputs": [
    {
     "name": "stdout",
     "output_type": "stream",
     "text": [
      "\u001b[1m551/551\u001b[0m \u001b[32m━━━━━━━━━━━━━━━━━━━━\u001b[0m\u001b[37m\u001b[0m \u001b[1m8s\u001b[0m 14ms/step - accuracy: 0.8840 - loss: 0.8606\n",
      "Accuracy en los datos de prueba: 0.8851761221885681\n"
     ]
    }
   ],
   "source": [
    "# Evaluación del modelo\n",
    "test_loss, test_accuracy = model.evaluate(X_test_cv, y_test_data)\n",
    "\n",
    "print(\"Accuracy en los datos de prueba:\", test_accuracy)"
   ]
  },
  {
   "cell_type": "code",
   "execution_count": 12,
   "id": "049be3c5",
   "metadata": {},
   "outputs": [
    {
     "name": "stdout",
     "output_type": "stream",
     "text": [
      "\u001b[1m551/551\u001b[0m \u001b[32m━━━━━━━━━━━━━━━━━━━━\u001b[0m\u001b[37m\u001b[0m \u001b[1m8s\u001b[0m 14ms/step\n"
     ]
    }
   ],
   "source": [
    "y_pred = model.predict(X_test_cv)"
   ]
  },
  {
   "cell_type": "code",
   "execution_count": 14,
   "id": "28fa84ae",
   "metadata": {},
   "outputs": [],
   "source": [
    "from sklearn.metrics import f1_score\n",
    "y_pred_labels = np.argmax(y_pred, axis=1)\n",
    "f1 = f1_score(y_test_data, y_pred_labels, average='weighted') "
   ]
  },
  {
   "cell_type": "code",
   "execution_count": 15,
   "id": "def13cce",
   "metadata": {},
   "outputs": [
    {
     "data": {
      "text/plain": [
       "0.8849116277230369"
      ]
     },
     "execution_count": 15,
     "metadata": {},
     "output_type": "execute_result"
    }
   ],
   "source": [
    "f1"
   ]
  },
  {
   "cell_type": "code",
   "execution_count": null,
   "id": "aa21ca64",
   "metadata": {},
   "outputs": [],
   "source": []
  },
  {
   "cell_type": "code",
   "execution_count": null,
   "id": "4d3b1a88",
   "metadata": {},
   "outputs": [],
   "source": []
  }
 ],
 "metadata": {
  "kernelspec": {
   "display_name": "Python 3 (ipykernel)",
   "language": "python",
   "name": "python3"
  },
  "language_info": {
   "codemirror_mode": {
    "name": "ipython",
    "version": 3
   },
   "file_extension": ".py",
   "mimetype": "text/x-python",
   "name": "python",
   "nbconvert_exporter": "python",
   "pygments_lexer": "ipython3",
   "version": "3.11.5"
  }
 },
 "nbformat": 4,
 "nbformat_minor": 5
}
